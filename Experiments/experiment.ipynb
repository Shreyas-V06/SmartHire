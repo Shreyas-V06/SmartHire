{
 "cells": [
  {
   "cell_type": "code",
   "execution_count": 2,
   "metadata": {},
   "outputs": [
    {
     "data": {
      "text/plain": [
       "True"
      ]
     },
     "execution_count": 2,
     "metadata": {},
     "output_type": "execute_result"
    }
   ],
   "source": [
    "import os\n",
    "from dotenv import load_dotenv\n",
    "load_dotenv()\n"
   ]
  },
  {
   "cell_type": "code",
   "execution_count": 3,
   "metadata": {},
   "outputs": [],
   "source": [
    "google_api_key=os.getenv('GOOGLE_API_KEY') \n"
   ]
  },
  {
   "cell_type": "code",
   "execution_count": 4,
   "metadata": {},
   "outputs": [],
   "source": [
    "from llama_index.core import Settings,StorageContext,load_index_from_storage,VectorStoreIndex,SimpleDirectoryReader\n"
   ]
  },
  {
   "cell_type": "code",
   "execution_count": 5,
   "metadata": {},
   "outputs": [
    {
     "name": "stderr",
     "output_type": "stream",
     "text": [
      "c:\\Users\\Shreyas\\Desktop\\SmartHire\\venv\\Lib\\site-packages\\tqdm\\auto.py:21: TqdmWarning: IProgress not found. Please update jupyter and ipywidgets. See https://ipywidgets.readthedocs.io/en/stable/user_install.html\n",
      "  from .autonotebook import tqdm as notebook_tqdm\n"
     ]
    }
   ],
   "source": [
    "from llama_index.embeddings.gemini import GeminiEmbedding\n",
    "from llama_index.llms.gemini import Gemini\n",
    "import google.generativeai as genai\n"
   ]
  },
  {
   "cell_type": "code",
   "execution_count": 6,
   "metadata": {},
   "outputs": [],
   "source": [
    "genai.configure(api_key=google_api_key) \n"
   ]
  },
  {
   "cell_type": "code",
   "execution_count": 8,
   "metadata": {},
   "outputs": [],
   "source": [
    "doc=SimpleDirectoryReader(r\"C:\\Users\\Shreyas\\Desktop\\SmartHire\\experiments\\data\").load_data()\n"
   ]
  },
  {
   "cell_type": "code",
   "execution_count": 9,
   "metadata": {},
   "outputs": [],
   "source": [
    "model=Gemini(models='gemini-1.5-pro',api_key=google_api_key)\n",
    "gemini_embed_model=GeminiEmbedding(model_name='models/text-embedding-004')\n"
   ]
  },
  {
   "cell_type": "code",
   "execution_count": 10,
   "metadata": {},
   "outputs": [],
   "source": [
    "Settings.llm = model \n",
    "Settings.embed_model=gemini_embed_model\n",
    "Settings.chunk_size=800\n",
    "Settings.chunk_overlap=20\n",
    "\n"
   ]
  },
  {
   "cell_type": "code",
   "execution_count": 11,
   "metadata": {},
   "outputs": [],
   "source": [
    "index=VectorStoreIndex.from_documents(doc)\n",
    "index.storage_context.persist()\n",
    "\n"
   ]
  },
  {
   "cell_type": "code",
   "execution_count": 32,
   "metadata": {},
   "outputs": [
    {
     "name": "stdout",
     "output_type": "stream",
     "text": [
      "4\n",
      "\n"
     ]
    }
   ],
   "source": [
    "retriever = index.as_query_engine()\n",
    "answer=retriever.query(\"How many years has been it, since he completed his BS, give me an integer answer only [check the logic before you display your answer]\")\n",
    "print(answer.response)\n",
    "\n"
   ]
  },
  {
   "cell_type": "code",
   "execution_count": 70,
   "metadata": {},
   "outputs": [],
   "source": [
    "parameter=\"has knowledge of ML?\" \n"
   ]
  },
  {
   "cell_type": "code",
   "execution_count": 71,
   "metadata": {},
   "outputs": [],
   "source": [
    "prompt = f\"\"\"\n",
    "    You are an AI system designed to assist in resume screening. \n",
    "    Your task is to classify the given parameter into one of three categories:\n",
    "    \n",
    "    1. Quantitative: A parameter measured numerically (e.g., years of experience, number of projects, GPA).  \n",
    "    2. Boolean: A parameter whose answer is a Yes or No ,they usually begin with 'has','knows','is' words.\n",
    "       (e.g., \"Has AWS Certification?\", \"Knows DevOps?\").  \n",
    "    3. Textual: A parameter requiring knowledge evaluation,skill-assesment or detailed analysis of the entire\n",
    "       resume, they usually look for 'knowledge','proficiency','relevance' (e.g., \"Proficiency in Python\",\"Knowledge in ML).  \n",
    "    \n",
    "    Instructions:  \n",
    "    - Carefully analyze the parameter and determine the correct category.  \n",
    "    - **Output must be in JSON format**:  \n",
    "      ```json\n",
    "      {{ \"classification\": \"Quantitative\" }}\n",
    "      ```\n",
    "    \n",
    "    **Input Parameter:** \"{parameter}\"\n",
    "    \"\"\""
   ]
  },
  {
   "cell_type": "code",
   "execution_count": 72,
   "metadata": {},
   "outputs": [
    {
     "name": "stdout",
     "output_type": "stream",
     "text": [
      "```json\n",
      "{ \"classification\": \"Textual\" }\n",
      "```\n"
     ]
    }
   ],
   "source": [
    "response = model.complete(prompt)\n",
    "print(response)\n"
   ]
  },
  {
   "cell_type": "markdown",
   "metadata": {},
   "source": []
  }
 ],
 "metadata": {
  "kernelspec": {
   "display_name": "venv",
   "language": "python",
   "name": "python3"
  },
  "language_info": {
   "codemirror_mode": {
    "name": "ipython",
    "version": 3
   },
   "file_extension": ".py",
   "mimetype": "text/x-python",
   "name": "python",
   "nbconvert_exporter": "python",
   "pygments_lexer": "ipython3",
   "version": "3.12.4"
  }
 },
 "nbformat": 4,
 "nbformat_minor": 2
}
